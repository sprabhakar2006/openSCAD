{
 "cells": [
  {
   "cell_type": "code",
   "execution_count": 1,
   "id": "7b76cd13-0696-44f5-9386-f990e6b0a7eb",
   "metadata": {},
   "outputs": [],
   "source": [
    "%load_ext autoreload\n",
    "%autoreload 2\n",
    "from openscad2 import *"
   ]
  },
  {
   "cell_type": "code",
   "execution_count": 3,
   "id": "3ded9620-8fed-4909-a1cc-db6c7cb012e5",
   "metadata": {},
   "outputs": [
    {
     "data": {
      "text/plain": [
       "0.025290966033935547"
      ]
     },
     "execution_count": 3,
     "metadata": {},
     "output_type": "execute_result"
    }
   ],
   "source": [
    "i_t=time.time()\n",
    "c1=circle(8/2)\n",
    "p1=turtle2d([[0,0],[0,50],[-.3,0],[0,1.2],[.3,0],[0,1.5],[-.5,.5]])\n",
    "s1=prism(c1,p1)\n",
    "\n",
    "p2=corner_radius_with_turtle([[0,0],[20,0],[0,6],[-20,0],[0,-3],[15,0,.5],[0,-1.95,.5],[-5,0],[0,-.1]\n",
    "             ,[-10,0]],10)\n",
    "p3=rot('x90',p2)\n",
    "\n",
    "c2=r_sec(7.6/2,7.6/2,[-1,0],[17,0])\n",
    "\n",
    "s2=surface_line_vector(p3,[0,-12/2,0],1)\n",
    "s3=translate([0,0,-1],linear_extrude(c2,3.9))\n",
    "\n",
    "txt1=dim_linear([0,-8,0],[20,0,0],1)\n",
    "txt2=dim_linear([-2,-6,0],[0,0,6],1)\n",
    "txt3=dim_linear([0,-7,.95],[0,0,2.05])\n",
    "txt4=dim_linear([10,-7,1.05],[0,0,1.95],.5)\n",
    "txt5=dim_linear([21,-6,6],[0,12,0])\n",
    "txt6=dim_linear([-2,7.6/2,0],[0,-7.6,0])\n",
    "txt7=dim_linear([0,7,3],[0,0,3],.5)\n",
    "txt8=dim_linear([0,7,.95],[10,0,0],.5)\n",
    "with open('trial.scad','w+')as f:\n",
    "    f.write(f'''\n",
    "    include<dependencies2.scad>\n",
    "\n",
    "{txt1}\n",
    "{txt2}\n",
    "{txt3}\n",
    "{txt4}\n",
    "{txt5}\n",
    "{txt6}\n",
    "{txt7}\n",
    "{txt8}\n",
    "//translate([-9,0,50.2])\n",
    "//color(\"grey\")\n",
    "difference(){{\n",
    "{swp(s2)}\n",
    "{swp(s3)}\n",
    "}}\n",
    "''')\n",
    "f_t=time.time()\n",
    "f_t-i_t\n"
   ]
  }
 ],
 "metadata": {
  "kernelspec": {
   "display_name": "Python 3 (ipykernel)",
   "language": "python",
   "name": "python3"
  },
  "language_info": {
   "codemirror_mode": {
    "name": "ipython",
    "version": 3
   },
   "file_extension": ".py",
   "mimetype": "text/x-python",
   "name": "python",
   "nbconvert_exporter": "python",
   "pygments_lexer": "ipython3",
   "version": "3.13.1"
  }
 },
 "nbformat": 4,
 "nbformat_minor": 5
}
