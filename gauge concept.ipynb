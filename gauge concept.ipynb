{
 "cells": [
  {
   "cell_type": "code",
   "execution_count": 6,
   "id": "7b76cd13-0696-44f5-9386-f990e6b0a7eb",
   "metadata": {},
   "outputs": [
    {
     "name": "stdout",
     "output_type": "stream",
     "text": [
      "The autoreload extension is already loaded. To reload it, use:\n",
      "  %reload_ext autoreload\n"
     ]
    }
   ],
   "source": [
    "%load_ext autoreload\n",
    "%autoreload 2\n",
    "from openscad2 import *"
   ]
  },
  {
   "cell_type": "code",
   "execution_count": 25,
   "id": "3ded9620-8fed-4909-a1cc-db6c7cb012e5",
   "metadata": {},
   "outputs": [
    {
     "data": {
      "text/plain": [
       "0.04059290885925293"
      ]
     },
     "execution_count": 25,
     "metadata": {},
     "output_type": "execute_result"
    }
   ],
   "source": [
    "i_t=time.time()\n",
    "c1=circle(8/2)\n",
    "p1=turtle2d([[0,0],[0,50],[-.3,0],[0,1.2],[.3,0],[0,1.5],[-.5,.5]])\n",
    "s1=prism(c1,p1)\n",
    "\n",
    "p2=corner_radius_with_turtle([[0,0],[20,0],[0,6],[-20,0],[0,-3],[15,0,.5],[0,-1.95,.5],[-5,0],[0,-.1]\n",
    "             ,[-10,0]],10)\n",
    "p3=rot('x90',p2)\n",
    "\n",
    "c2=r_sec(7.6/2,7.6/2,[-1,0],[17,0])\n",
    "\n",
    "s2=surface_line_vector(p3,[0,-12/2,0],1)\n",
    "s3=translate([0,0,-1],linear_extrude(c2,3.9))\n",
    "\n",
    "with open('trial.scad','w+')as f:\n",
    "    f.write(f'''\n",
    "    include<dependencies2.scad>\n",
    "//{swp(s1)}\n",
    "//color(\"blue\")p_line3dc({p3},.1);\n",
    "//color(\"magenta\")p_line3dc({c2},.1);\n",
    "\n",
    "//translate([-9,0,50.2])\n",
    "//color(\"grey\")\n",
    "difference(){{\n",
    "{swp(s2)}\n",
    "{swp(s3)}\n",
    "}}\n",
    "''')\n",
    "f_t=time.time()\n",
    "f_t-i_t\n"
   ]
  },
  {
   "cell_type": "code",
   "execution_count": 161,
   "id": "d458c085-7937-4ec7-a7f8-f083c60e2715",
   "metadata": {},
   "outputs": [
    {
     "data": {
      "text/plain": [
       "\u001b[0;31mSignature:\u001b[0m \u001b[0mperpendicularProjectionOfPointOnLine\u001b[0m\u001b[0;34m(\u001b[0m\u001b[0mp0\u001b[0m\u001b[0;34m,\u001b[0m \u001b[0ml1\u001b[0m\u001b[0;34m)\u001b[0m\u001b[0;34m\u001b[0m\u001b[0;34m\u001b[0m\u001b[0m\n",
       "\u001b[0;31mSource:\u001b[0m   \n",
       "\u001b[0;32mdef\u001b[0m \u001b[0mperpendicularProjectionOfPointOnLine\u001b[0m\u001b[0;34m(\u001b[0m\u001b[0mp0\u001b[0m\u001b[0;34m,\u001b[0m\u001b[0ml1\u001b[0m\u001b[0;34m)\u001b[0m\u001b[0;34m:\u001b[0m\u001b[0;34m\u001b[0m\n",
       "\u001b[0;34m\u001b[0m    \u001b[0;34m'''\u001b[0m\n",
       "\u001b[0;34m    finds the perpendicular projection of a point on a polyline, if one exists\u001b[0m\n",
       "\u001b[0;34m    '''\u001b[0m\u001b[0;34m\u001b[0m\n",
       "\u001b[0;34m\u001b[0m    \u001b[0mpx\u001b[0m\u001b[0;34m=\u001b[0m\u001b[0;34m[\u001b[0m\u001b[0mvcost\u001b[0m\u001b[0;34m(\u001b[0m\u001b[0mp\u001b[0m\u001b[0;34m,\u001b[0m\u001b[0mp0\u001b[0m\u001b[0;34m,\u001b[0m\u001b[0;36m1e5\u001b[0m\u001b[0;34m)\u001b[0m \u001b[0;32mfor\u001b[0m \u001b[0mp\u001b[0m \u001b[0;32min\u001b[0m \u001b[0mseg\u001b[0m\u001b[0;34m(\u001b[0m\u001b[0ml1\u001b[0m\u001b[0;34m)\u001b[0m\u001b[0;34m[\u001b[0m\u001b[0;34m:\u001b[0m\u001b[0;34m-\u001b[0m\u001b[0;36m1\u001b[0m\u001b[0;34m]\u001b[0m \u001b[0;32mif\u001b[0m \u001b[0mvcost\u001b[0m\u001b[0;34m(\u001b[0m\u001b[0mp\u001b[0m\u001b[0;34m,\u001b[0m\u001b[0mp0\u001b[0m\u001b[0;34m,\u001b[0m\u001b[0;36m1e5\u001b[0m\u001b[0;34m)\u001b[0m\u001b[0;34m!=\u001b[0m\u001b[0;34m[\u001b[0m\u001b[0;34m]\u001b[0m\u001b[0;34m]\u001b[0m\u001b[0;34m\u001b[0m\n",
       "\u001b[0;34m\u001b[0m    \u001b[0;32mreturn\u001b[0m \u001b[0mpx\u001b[0m\u001b[0;34m[\u001b[0m\u001b[0;36m0\u001b[0m\u001b[0;34m]\u001b[0m  \u001b[0;32mif\u001b[0m \u001b[0mpx\u001b[0m\u001b[0;34m!=\u001b[0m\u001b[0;34m[\u001b[0m\u001b[0;34m]\u001b[0m \u001b[0;32melse\u001b[0m \u001b[0;34m[\u001b[0m\u001b[0;34m]\u001b[0m\u001b[0;34m\u001b[0m\u001b[0;34m\u001b[0m\u001b[0m\n",
       "\u001b[0;31mFile:\u001b[0m      ~/python_openscad/openscad2.py\n",
       "\u001b[0;31mType:\u001b[0m      function"
      ]
     },
     "metadata": {},
     "output_type": "display_data"
    }
   ],
   "source": []
  },
  {
   "cell_type": "code",
   "execution_count": 65,
   "id": "5be5102d-4c5c-43ad-ae55-5e32771d8a38",
   "metadata": {},
   "outputs": [],
   "source": [
    "def vcost1(l1,p0):\n",
    "    '''\n",
    "    finds the projection of the point 'p0' on line 'l1'\n",
    "    '''\n",
    "    v1=a_(l1[1])-a_(l1[0])\n",
    "    u1=v1/norm(v1)\n",
    "    v2=a_(p0)-a_(l1[0])\n",
    "    d1,d2=v1@v2/norm(v1),norm(cross(c23(v1),c23(v2)))/norm(v1)\n",
    "    p1=l_(a_(l1[0])+u1*d1)\n",
    "    return p1"
   ]
  }
 ],
 "metadata": {
  "kernelspec": {
   "display_name": "Python 3 (ipykernel)",
   "language": "python",
   "name": "python3"
  },
  "language_info": {
   "codemirror_mode": {
    "name": "ipython",
    "version": 3
   },
   "file_extension": ".py",
   "mimetype": "text/x-python",
   "name": "python",
   "nbconvert_exporter": "python",
   "pygments_lexer": "ipython3",
   "version": "3.13.1"
  }
 },
 "nbformat": 4,
 "nbformat_minor": 5
}
