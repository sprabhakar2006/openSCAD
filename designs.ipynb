{
 "cells": [
  {
   "cell_type": "code",
   "execution_count": 1,
   "id": "3959b1f8",
   "metadata": {
    "tags": []
   },
   "outputs": [],
   "source": [
    "from openscad1 import *"
   ]
  },
  {
   "cell_type": "code",
   "execution_count": 2,
   "id": "041b4076",
   "metadata": {
    "tags": []
   },
   "outputs": [],
   "source": [
    "set_printoptions(suppress=True)"
   ]
  },
  {
   "cell_type": "code",
   "execution_count": 5,
   "id": "8f834674",
   "metadata": {
    "hide_input": false,
    "tags": []
   },
   "outputs": [],
   "source": [
    "sol1=sphere(10)\n",
    "sol2=q_rot(['x45'],cylinder(r1=0,r2=10,h=20))\n",
    "fillet1=ip_fillet(sol1,sol2,2,-2)\n",
    "with open('trial.scad','w+')as f:\n",
    "    f.write(f'''\n",
    "    %{swp(sol1)}\n",
    "    %{swp(sol2)}\n",
    "    {swp_c(fillet1)}\n",
    "    ''')"
   ]
  },
  {
   "cell_type": "markdown",
   "id": "5bcf34a4",
   "metadata": {},
   "source": [
    "# sinwave box_1"
   ]
  },
  {
   "cell_type": "code",
   "execution_count": 8,
   "id": "2feb5bb4",
   "metadata": {
    "hide_input": true,
    "tags": []
   },
   "outputs": [
    {
     "data": {
      "text/plain": [
       "2.121138334274292"
      ]
     },
     "execution_count": 8,
     "metadata": {},
     "output_type": "execute_result"
    }
   ],
   "source": [
    "i_t=time.time()\n",
    "surf1=[ [ [i, j, 2*sin(d2r(2*i*360/100))*sin(d2r(1*j*360/70))] for j in linspace(-35,35,50)]for i in linspace(-50,50,50) ]\n",
    "surf1=translate([50,0,50],q_rot(['y90'],surf1))\n",
    "surf2=q_rot(['z90'],surf1)\n",
    "surf3=q_rot(['z90'],surf2)\n",
    "surf4=q_rot(['z90'],surf3)\n",
    "l1=cr(pts1([[35,-50],[15,0,7],[0,15]]),10)[1:-1]\n",
    "l1=[translate([0,0,i],l1) for i in linspace(0,100,50)]\n",
    "l2=q_rot(['z90'],l1)\n",
    "l3=q_rot(['z90'],l2)\n",
    "l4=q_rot(['z90'],l3)\n",
    "sol1=[l1[i]+flip(surf1)[i]+l2[i]+flip(surf2)[i]+l3[i]+flip(surf3)[i]+l4[i]+flip(surf4)[i] for i in range(len(l1))]\n",
    "sol2=offset_sol(sol1,2)\n",
    "sol3=swp_prism_h(sol2,sol1)\n",
    "# sol4=sol3[:-2]\n",
    "p0=sol3[-3]\n",
    "p1=sol3[-5]\n",
    "p2=offset_3d(p0,-5)\n",
    "fillet1=cpo(convert_3lines2fillet(p1,p2,p0))[:-1]\n",
    "sol4=sol3[:-3]+fillet1\n",
    "with open('trial.scad','w+') as f:\n",
    "    f.write(f'''\n",
    "    include<dependencies2.scad>\n",
    "    difference(){{\n",
    "    {swp(sol4)}\n",
    "    //{swp(cut_plane([0,-1,0],[300,300],300))}\n",
    "    }}\n",
    "    //color(\"blue\")p_line3dc({p0},.2,rec=1);\n",
    "    //color(\"blue\")p_line3dc({p1},.2,rec=1);\n",
    "    //color(\"blue\")p_line3dc({p2},.2,rec=1);\n",
    "    \n",
    "    \n",
    "    ''')\n",
    "f_t=time.time()\n",
    "f_t-i_t"
   ]
  },
  {
   "cell_type": "code",
   "execution_count": 9,
   "id": "79bff4e5",
   "metadata": {
    "hide_input": false,
    "tags": []
   },
   "outputs": [],
   "source": [
    "sec=cr(pts1([[0,0,.1],[10,10,.1],[10,-10,.1],[0,30,.1],[-10,-10,.1],[-10,10,.1]]),30)\n",
    "sec1=offset(sec,-5.2)\n",
    "\n",
    "with open('trial.scad','w+') as f:\n",
    "    f.write(f'''\n",
    "    include<dependencies2.scad>\n",
    "    \n",
    "    color(\"blue\")p_line({sec},.1);\n",
    "    color(\"magenta\")p_line({sec1},.1);\n",
    "    \n",
    "    \n",
    "    ''')"
   ]
  },
  {
   "cell_type": "markdown",
   "id": "5a1233d3",
   "metadata": {},
   "source": [
    "# Q"
   ]
  },
  {
   "cell_type": "code",
   "execution_count": 10,
   "id": "c8536abd",
   "metadata": {
    "hide_input": true,
    "tags": []
   },
   "outputs": [
    {
     "name": "stderr",
     "output_type": "stream",
     "text": [
      "C:\\openscad\\openscad-main\\openscad1.py:177: RuntimeWarning: invalid value encountered in arccos\n",
      "  theta0= (180-arccos(einsum('ij,ij->i',u0,u1))*180/pi)/2\n",
      "C:\\openscad\\openscad-main\\openscad1.py:178: RuntimeWarning: invalid value encountered in arccos\n",
      "  theta1= (180-arccos(einsum('ij,ij->i',u2,u3))*180/pi)/2\n",
      "C:\\openscad\\openscad-main\\openscad1.py:179: RuntimeWarning: invalid value encountered in arccos\n",
      "  theta2= (180-arccos(einsum('ij,ij->i',u4,u5))*180/pi)/2\n"
     ]
    }
   ],
   "source": [
    "r1,r2=9,10\n",
    "sec=[[r1*cos(d2r(i)),r2*sin(d2r(i))] for i in linspace(0,359,70)]\n",
    "sec1=offset(sec,-3)\n",
    "sec=sec[-7:]+sec[:-9]\n",
    "sec1=sec1[-6:]+sec1[:-9]\n",
    "\n",
    "sec2=cr(pts1([[0,0],[-2,2,4],[-2,1,.1],[1.7,1.7,.1],[2,-1,4],[2,-2]]),10)\n",
    "sec2=translate(array(sec1[-1]),sec2)\n",
    "sec2=equidistant_path(sec2,30)[1:-2]\n",
    "\n",
    "sec3=cr(pts1([[0,0],[2,-2,5],[3,-2,.1],[1.7,1.7,.1],[-3,2,5],[-2,2]]),10)\n",
    "sec3=translate(array(sec[-1]),sec3)\n",
    "sec3=equidistant_path(sec3,30)[1:-1]\n",
    "\n",
    "sec4=cr([[sec2[0][0],sec2[0][1],.2]]+c2t3(sec2)[2:-2]+[[sec2[-1][0],sec2[-1][1],.2]]+c2t3(sec1)[1:-1],10)\n",
    "sec5=cr([[sec3[0][0],sec3[0][1],.2]]+c2t3(sec3)[2:-2]+[[sec3[-1][0],sec3[-1][1],.2]]+c2t3(sec)[:-1],10)\n",
    "sec5=equidistant_pathc(sec5,150)\n",
    "\n",
    "\n",
    "with open('trial.scad','w+') as f:\n",
    "    f.write(f'''\n",
    "    include<dependencies2.scad>\n",
    "    \n",
    "    color(\"blue\")p_line3dc({sec4},.1);\n",
    "    color(\"blue\")p_line3dc({sec5},.1);\n",
    "    color(\"magenta\")p_line3dc({offset(sec4,.5)},.1);\n",
    "    color(\"magenta\")p_line3dc({offset(sec5,-.5)},.1);\n",
    "    \n",
    "\n",
    "    ''')"
   ]
  },
  {
   "cell_type": "markdown",
   "id": "20447b0a",
   "metadata": {},
   "source": [
    "# Eyes"
   ]
  },
  {
   "cell_type": "code",
   "execution_count": 11,
   "id": "1d31184a",
   "metadata": {
    "hide_input": true,
    "tags": []
   },
   "outputs": [
    {
     "name": "stderr",
     "output_type": "stream",
     "text": [
      "C:\\openscad\\openscad-main\\openscad1.py:84: RuntimeWarning: invalid value encountered in divide\n",
      "  u3=(v3/norm(v3,axis=1).reshape(-1,1)).round(3)\n"
     ]
    }
   ],
   "source": [
    "#  eyes in openscad\n",
    "sec=pts1([[0,0,.5],[10,0,9],[0,10,.5],[-10,0,9]]) \n",
    "\n",
    "sec=cr(sec,10) \n",
    "sec1=c3t2(translate(array([.8,.8])@rm(90),circle(3.25,[5,5])))\n",
    "sec2=translate(array([.8,.8])@rm(90),[translate([5,5,0],q_rot([f'z{i}'],[[0.2,0],[3.25,0]])) for i in linspace(0,359,50)])\n",
    "sec3=offset(sec,.7)\n",
    "sec3=sec3[-13:]+sec3[0:2]\n",
    "with open('trial.scad','w+') as f:\n",
    "    f.write(f'''\n",
    "    include<dependencies2.scad>\n",
    "    for(i=[-7-9-7,9])\n",
    "    translate([i,4,0])\n",
    "    rotate([0,0,-45])\n",
    "    {{\n",
    "    color(\"blue\")p_line3dc({sec},.1);\n",
    "    color(\"blue\")p_line3d({sec3},.1);\n",
    "    intersection(){{\n",
    "    polygon({sec});\n",
    "    union(){{\n",
    "    color(\"magenta\")p_line3dc({sec1},.1);\n",
    "    color(\"cyan\")p_line3dc({offset(sec1,-1.5)},.1); \n",
    "    color(\"cyan\")p_line3dc({offset(sec1,-2.5)},.1);\n",
    "    color(\"violet\")for(p={sec2})p_line3d(p,.02,rec=1);\n",
    "    }}\n",
    "    }}\n",
    "    }}\n",
    "    \n",
    "    \n",
    "    ''')"
   ]
  },
  {
   "cell_type": "markdown",
   "id": "675fd480",
   "metadata": {},
   "source": [
    "# mobile stand"
   ]
  },
  {
   "cell_type": "code",
   "execution_count": 12,
   "id": "2c3e8a67",
   "metadata": {
    "hide_input": true,
    "tags": []
   },
   "outputs": [],
   "source": [
    "#  mobile stand\n",
    "\n",
    "sec=cr(pts1([[0,0,2],[100,0,3],[-20*cos(d2r(60)),20,1],\n",
    "             [-5,0,1],[15*cos(d2r(60)),-15,2],[-15,0,3],\n",
    "             [-50*cos(d2r(60)),50,1],[-5,0,1],\n",
    "             [50*cos(d2r(60)),-50,2],[-73,0,2]]),10)\n",
    "path=cr(pts1([[-2,0],[2,0,2],[0,150,2],[-2,0]]),10)\n",
    "sol=translate([75,120,0],q_rot(['x90','z-90'],prism(sec,path)))\n",
    "\n",
    "sec1=arc_2p([-80,0],[80,0],500,1,50)+[[80,20],[-80,20]]\n",
    "sol1=q_rot(['x60'],linear_extrude(sec1,10))\n",
    "\n",
    "sec2=arc_2p([-80,0],[80,0],200,1,50)+[[80,40],[-80,40]]\n",
    "sol2=q_rot(['x60'],linear_extrude(sec2,10))\n",
    "\n",
    "\n",
    "with open('trial.scad','w+') as f:\n",
    "    f.write(f'''\n",
    "    include<dependencies2.scad>\n",
    "    //include</Users/sanjeevprabhakar/iCloud Drive (Archive)/Documents/Download/openscad/mobile_stand.scad>\n",
    "    \n",
    "    //color(\"blue\")p_line3dc({sec},.1);\n",
    "    //color(\"blue\")p_line3d({sec1},.2);\n",
    "    translate([0,20,0])\n",
    "    rotate([0,0,180]){{\n",
    "    difference(){{\n",
    "    {swp(sol)}\n",
    "    translate([0,10+21,6])\n",
    "    {swp(sol1)}\n",
    "    translate([0,10+20+31,10+15])\n",
    "    {swp(sol2)}\n",
    "    }}\n",
    "      \n",
    "    }}\n",
    "    ''')"
   ]
  },
  {
   "cell_type": "markdown",
   "id": "c749d299",
   "metadata": {},
   "source": [
    "# sinwave round box"
   ]
  },
  {
   "cell_type": "code",
   "execution_count": 18,
   "id": "b83f154d",
   "metadata": {
    "hide_input": true,
    "tags": []
   },
   "outputs": [
    {
     "data": {
      "text/plain": [
       "3.8976027965545654"
      ]
     },
     "execution_count": 18,
     "metadata": {},
     "output_type": "execute_result"
    }
   ],
   "source": [
    "i_t=time.time()\n",
    "# sinwave glass\n",
    "height=100\n",
    "dia=100\n",
    "width=pi*dia\n",
    "factor=round(width/height,0)\n",
    "sec=[[[i,j,1*sin(d2r(i*360/height*3))*sin(d2r(j*360/width*3*factor))] for j in linspace(0,width,150)] for i in linspace(0,height,100)]\n",
    "# path=translate([0,100/pi/2,100/pi/2],q_rot(['y90'],arc(100/pi/2,0,400,s=200)))\n",
    "path=q_rot(['y90'],arc(dia/2,0,400,s=200))\n",
    "\n",
    "surf1=[wrap_around(p,path)[:-1] for p in sec]\n",
    "surf2=offset_sol(surf1,-2)\n",
    "sol1=q_rot(['y-90'],swp_prism_h(surf2,surf1))\n",
    "sol2=q_rot(['y-90'],surf1[:2])\n",
    "\n",
    "p0=sol1[2][:-1]\n",
    "p1=sol1[15][:-1]\n",
    "p2=offset_3d(p0,-15)\n",
    "fillet1=convert_3lines2fillet_closed(p2,p1,p0)\n",
    "\n",
    "sol3=flip(sol1)[:-15]+flip(cpo(fillet1)[1:-1])\n",
    "\n",
    "sol4=cut_plane([-1,0,0],[300,300],300,0,0,0)\n",
    "with open('trial.scad','w+') as f:\n",
    "    f.write(f'''\n",
    "    include<dependencies2.scad>\n",
    "    difference(){{\n",
    "   {swp(sol3)}\n",
    "   {swp(sol4)}\n",
    "   \n",
    "   }}\n",
    "    ''')\n",
    "f_t=time.time()\n",
    "f_t-i_t"
   ]
  },
  {
   "cell_type": "markdown",
   "id": "8729bdd8",
   "metadata": {},
   "source": [
    "# Honeycomb box"
   ]
  },
  {
   "cell_type": "code",
   "execution_count": 19,
   "id": "81de92b1",
   "metadata": {
    "hide_input": false,
    "tags": []
   },
   "outputs": [
    {
     "data": {
      "text/plain": [
       "4.221347093582153"
      ]
     },
     "execution_count": 19,
     "metadata": {},
     "output_type": "execute_result"
    }
   ],
   "source": [
    "i_t=time.time()\n",
    "sec=honeycomb(3,6,26)\n",
    "sec=[translate([0.1,3*sin(d2r(60)),0],p) for p in sec]\n",
    "l1=array(sec)[:,:,1].max()\n",
    "path=cr(pts1([[-1,0],[1,0],[0,2],[-1,0]]),5)\n",
    "path=path+[path[0]]\n",
    "sol=[prism(p,path) for p in c3t2(sec)]\n",
    "\n",
    "path1=arc(array(sec)[:,:,1].max()/pi/2-.4,0,380,s=100)\n",
    "path1=q_rot(['y90'],path1)\n",
    "\n",
    "sol1=[[wrap_around(p1,path1) for p1 in p] for p in sol]\n",
    "\n",
    "sol2=[translate([0,0,3],q_rot(['y-90'],p)) for p in sol1]\n",
    "\n",
    "sec=linear_extrude(circle(21.7,s=100),1.5)\n",
    "sec1=linear_extrude(circle(21.7-10,s=100),1.6)\n",
    "sol3=swp_prism_h(sec,sec1)\n",
    "with open('trial.scad','w+') as f:\n",
    "    f.write(f'''\n",
    "    include<dependencies2.scad>\n",
    "    \n",
    "    sol2={sol2};\n",
    "    for(p=sol2)swp_c(p);\n",
    "    color(\"blue\")for(p=sol2)for(p1=p)p_line3dc(p1,.1,rec=1);\n",
    "    {swp(sec)}\n",
    "\n",
    "    ''')\n",
    "f_t=time.time()\n",
    "f_t-i_t"
   ]
  },
  {
   "cell_type": "markdown",
   "id": "65b0d897",
   "metadata": {},
   "source": [
    "# application of wrap_around function"
   ]
  },
  {
   "cell_type": "code",
   "execution_count": 20,
   "id": "f22b1694",
   "metadata": {
    "hide_input": true,
    "tags": []
   },
   "outputs": [],
   "source": [
    "sec=cr(pts1([[-10,0,2],[20,0,2],[0,20,5],[-10,10,3],[-10,-10,5]]),20)\n",
    "path=cr(pts1([[-10,0],[10,0],[0,.5],[-10,0]]),2)\n",
    "sol1=prism(sec,path)\n",
    "sol1=[equidistant_pathc(p,300) for p in sol1]\n",
    "sol1=align_sol_1(sol1)\n",
    "sol1=slice_sol(sol1,100)\n",
    "path=cr_3d([[0,0,0,0],[0,10,0,3],[0,-3,8,2],[0,5,0,2],[0,0,-5,3],[0,20,0,0]],20)\n",
    "path=translate([0,0,10],path)\n",
    "sol2=[wrap_around(p,path) for p in sol1]\n",
    "sol2=sol2+[sol2[0]]\n",
    "\n",
    "with open('trial.scad','w+') as f:\n",
    "    f.write(f'''\n",
    "    include<dependencies2.scad>\n",
    "    {swp(sol1)}\n",
    "    {swp_c(sol2)}\n",
    "    ''')\n",
    "\n"
   ]
  },
  {
   "cell_type": "code",
   "execution_count": 21,
   "id": "8f61f4f2",
   "metadata": {
    "hide_input": true,
    "scrolled": true,
    "tags": []
   },
   "outputs": [
    {
     "data": {
      "text/plain": [
       "9.557230710983276"
      ]
     },
     "execution_count": 21,
     "metadata": {},
     "output_type": "execute_result"
    }
   ],
   "source": [
    "i_t=time.time()\n",
    "p0=[15,0]\n",
    "p1=[15,45]\n",
    "cir1=circle(7.5,[0,75-7.5])\n",
    "p2=p_cir_t(p1,cir1)\n",
    "p4=[-15,45]\n",
    "p3=cir_p_t(cir1,p4)\n",
    "arc1=arc_2p(p2,p3,7.5,-1,45)\n",
    "p5=[-15,0]\n",
    "p0,p1,arc1,p4,p5=[[15,0,0]],[[15,45,1]],c2t3(arc1),[[-15,45,1]],[[-15,0,0]]\n",
    "sec=cr(p0+p1+arc1+p4+p5,10)\n",
    "sec=equidistant_pathc(sec,300)\n",
    "path=cr(pts1([[-15,0],[15,0],[0,5],[-15,0]]),10)\n",
    "sol=translate([0,0,-5],slice_sol(prism(sec,path),100))\n",
    "\n",
    "path1=cr_3d([[0,0,0,0],[0,45,0,6],[0,35,30,0]],20)\n",
    "\n",
    "sol1=[wrap_around(p,path1) for p in sol]\n",
    "\n",
    "with open('trial.scad','w+') as f:\n",
    "    f.write(f'''\n",
    "include<dependencies2.scad>\n",
    "//%{swp(sol)}\n",
    "{swp(sol1)}\n",
    "''')  \n",
    "\n",
    "f_t=time.time()\n",
    "f_t-i_t"
   ]
  },
  {
   "cell_type": "code",
   "execution_count": 22,
   "id": "81b63995",
   "metadata": {
    "tags": []
   },
   "outputs": [
    {
     "data": {
      "text/plain": [
       "6.609588384628296"
      ]
     },
     "execution_count": 22,
     "metadata": {},
     "output_type": "execute_result"
    }
   ],
   "source": [
    "# mobile stand revised version\n",
    "i_t=time.time()\n",
    "sec=round_corners(pts1([[0,0,1.9],[150,0,1.9],[0,4,1.9],[-150,0,1.9]]),10)\n",
    "path=round_corners(pts1([[-1.9,0],[1.9,0,1.9],[0,120,1.9],[-1.9,0]]),10)\n",
    "\n",
    "sol=prism(sec,path)\n",
    "sol=q_rot(['z90'],sol)\n",
    "sol=[equidistant_pathc(p,400) for p in sol]\n",
    "path1=arc_2p([0,0],[150,0],500,1,150)\n",
    "path1=translate([0,0,120],q_rot(['x90','z90'],path1))\n",
    "\n",
    "sol1=translate([0,0,-120+1.9],sol[-10:])\n",
    "sol1=[wrap_around(p,path1) for p in sol1]\n",
    "\n",
    "path2=arc_2p([0,0],[150,0],500,-1,150)\n",
    "path2=translate([0,0,0],q_rot(['x90','z90'],path2))\n",
    "sol2=sol[:10]\n",
    "sol2=[wrap_around(p,path2) for p in sol2]\n",
    "\n",
    "sol3=[sol2[-1]]+[sol1[0]]\n",
    "sol3=slice_sol(sol3,100)\n",
    "sol4=sol2+sol3+sol1\n",
    "sol4=translate([0,10,0],q_rot(['y90','z90'],sol4))\n",
    "\n",
    "path3=round_corners(pts1([[0,0],[127,0,6],[-50*cos(d2r(60)),50*sin(d2r(60))]]),10)\n",
    "path3=q_rot(['x90','z90'],path3)\n",
    "\n",
    "sol5=[wrap_around(p,path3) for p in sol4]\n",
    "\n",
    "sec=round_corners(pts1([[6,0,1.9],[150-12,0,1.9],[0,4,1.9],[-150+12,0,1.9]]),10)\n",
    "path=round_corners(pts1([[0,0],[0,1.9,1.9],[-1.9,0]]),10)\n",
    "\n",
    "sol=prism(sec,path)\n",
    "sol=q_rot(['z90'],sol)\n",
    "path=arc_2p([0,0],[150,0],300,1,150)\n",
    "path=translate([0,0,50],q_rot(['x90','z90'],path))\n",
    "\n",
    "sol1=[wrap_around(equidistant_pathc(p,400),path) for p in sol]\n",
    "sol2=translate([0,0,-50],equidistant_pathc(wrap_around(sol[0],path),400))\n",
    "sol2=[sol2]+sol1\n",
    "sol2=translate([0,100,1],q_rot(['z90','x30'],sol2))\n",
    "\n",
    "sol6=[sol5[10]]+[sol5[90]]\n",
    "sol7=[sol2[0]]+[sol2[1]]\n",
    "fillet1=flip(ip_fillet(sol6,sol7,4,-3.8))\n",
    "\n",
    "with open('trial.scad','w+') as f:\n",
    "    f.write(f'''\n",
    "    include<dependencies2.scad>\n",
    "    {swp(sol5)}\n",
    "    {swp(sol2)}\n",
    "    {swp_c(fillet1)}\n",
    "    \n",
    "    ''')\n",
    "\n",
    "f_t=time.time()\n",
    "f_t-i_t"
   ]
  },
  {
   "cell_type": "code",
   "execution_count": 23,
   "id": "7f967aa7",
   "metadata": {
    "tags": []
   },
   "outputs": [],
   "source": [
    "sec=cr(pts1([[0,0,8],[34,0,8],[0,60,8],[-34,0,8]]),20)\n",
    "path=cr(pts1([[0,0],[0,10,2],[-2,0]]),10)\n",
    "\n",
    "sec1=offset(sec,-5)\n",
    "path1=cr(pts1([[0,0],[0,10,2],[2,0]]),10)\n",
    "\n",
    "sol1=prism(sec,path)\n",
    "sol2=prism(sec1,path1)\n",
    "\n",
    "sol3=swp_prism_h(sol1,sol2)\n",
    "\n",
    "with open('trial.scad','w+') as f:\n",
    "    f.write(f'''\n",
    "    include<dependencies2.scad>\n",
    "    {swp_c(sol3)}\n",
    "    \n",
    "    ''')"
   ]
  },
  {
   "cell_type": "code",
   "execution_count": 24,
   "id": "3907377b",
   "metadata": {
    "tags": []
   },
   "outputs": [],
   "source": [
    "line1=[[1,5],[3,2]]\n",
    "p0,p1=array(line1)\n",
    "v1=p1-p0\n",
    "v1=c2t3([v1])[0]\n",
    "line2=[p0.tolist(),(p0+c3t2([cross([0,0,1],v1)])[0]).tolist()]\n",
    "\n",
    "with open('trial.scad','w+') as f:\n",
    "    f.write(f'''\n",
    "    include<dependencies2.scad>\n",
    "    color(\"blue\")p_line3d({line1},.1);\n",
    "    color(\"magenta\")p_line3d({line2},.1);\n",
    "    \n",
    "    ''')\n",
    "\n"
   ]
  },
  {
   "cell_type": "code",
   "execution_count": 25,
   "id": "b3c8cd13",
   "metadata": {
    "tags": []
   },
   "outputs": [],
   "source": [
    "sec=square([5,3])\n",
    "sec1=offset(sec,1)\n",
    "with open('trial.scad','w+') as f:\n",
    "    f.write(f'''\n",
    "    include<dependencies2.scad>\n",
    "    color(\"blue\")p_line3dc({sec},.1);\n",
    "    color(\"magenta\")p_line3dc({sec1},.1);\n",
    "    \n",
    "    ''')\n"
   ]
  },
  {
   "cell_type": "code",
   "execution_count": 26,
   "id": "fca81c30",
   "metadata": {
    "tags": []
   },
   "outputs": [
    {
     "name": "stderr",
     "output_type": "stream",
     "text": [
      "C:\\openscad\\openscad-main\\openscad1.py:4682: RuntimeWarning: invalid value encountered in divide\n",
      "  u=einsum('ijkl,ijkl->ijk',cross(p02[None,None,:,:],(-lab)[:,:,None,:]),(la[:,:,None,:]-p0[None,None,:,:]))/(einsum('ijl,kl->ijk',(-lab),cross(p01,p02))+.00000)\n"
     ]
    }
   ],
   "source": [
    "# m39\n",
    "\n",
    "l1=tcct(10,30,[-35,0],[0,-34])\n",
    "l2=tcct(10,30,[35,0],[0,-34],1)\n",
    "l3=cir_p_t(circle(10,[35,0],s=50),[45,35])\n",
    "l4=p_cir_t([45,35],circle(10,[0,45],s=100))\n",
    "l5=cir_p_t(circle(10,[0,45],s=100),[-45,35])\n",
    "l6=p_cir_t([-45,35],circle(10,[-35,0],100))\n",
    "\n",
    "arc1=c2t3(arc_2p(l1[1],l2[1],30,1,20))\n",
    "arc2=c2t3(arc_2p(l2[0],l3,10,-1,20))\n",
    "pnt1=[[45,35,10]]\n",
    "arc3=c2t3(arc_2p(l4,l5,10,-1,20))\n",
    "pnt2=[[-45,35,10]]\n",
    "arc4=c2t3(arc_2p(l6,l1[0],10,-1,20))\n",
    "sec=cr(arc1+arc2+pnt1+arc3+pnt2+arc4,20)\n",
    "path1=cr(pts1([[-1.25,0],[1.25,0,1.25],[0,10,1.25],[-1.25,0]]),10)\n",
    "\n",
    "l01=tcct(7.5,32.5,[-35,0],[0,-34])\n",
    "l02=tcct(7.5,32.5,[35,0],[0,-34],1)\n",
    "l03=cir_p_t(circle(7.5,[35,0],s=50),[45-2.5,35-1.25])\n",
    "l04=p_cir_t([45-2.5,35-1.25],circle(7.5,[0,45],s=100))\n",
    "l05=cir_p_t(circle(7.5,[0,45],s=100),[-45+2.5,35-1.25])\n",
    "l06=p_cir_t([-45+2.5,35-1.25],circle(7.5,[-35,0],100))\n",
    "\n",
    "arc01=c2t3(arc_2p(l01[1],l02[1],32.5,1,20))\n",
    "arc02=c2t3(arc_long_2p(l02[0],l03,7.5,1,50))\n",
    "pt01=[[arc02[0][0],arc02[0][1],2.5]]\n",
    "ar02=arc02[8:-8]\n",
    "pt02=[[arc02[len(arc02)-1][0],arc02[len(arc02)-1][1],2.5]]\n",
    "pnt01=[[45-2.5,35-1.25,7.5]]\n",
    "arc03=c2t3(arc_long_2p(l04,l05,7.5,1,50))\n",
    "pt03=[[arc03[0][0],arc03[0][1],2.5]]\n",
    "ar03=arc03[8:-8]\n",
    "pt04=[[arc03[len(arc03)-1][0],arc03[len(arc03)-1][1],2.5]]\n",
    "pnt02=[[-45+2.5,35-1.25,10]]\n",
    "arc04=c2t3(arc_long_2p(l06,l01[0],7.5,1,50))\n",
    "pt05=[[arc04[0][0],arc04[0][1],2.5]]\n",
    "ar04=arc04[8:-8]\n",
    "pt06=[[arc04[len(arc04)-1][0],arc04[len(arc04)-1][1],2.5]]\n",
    "sec0=cr(arc01+pt01+ar02+pt02+pnt01+pt03+ar03+pt04+pnt02+pt05+ar04+pt06,20)\n",
    "path2=cr(pts1([[-1.25,1.25],[1.25,0,1.25],[0,10-1.25,1.25],[1.25,0],[0,.2]]),10)\n",
    "\n",
    "sec1=circle(5,s=50)\n",
    "path3=cr(pts1([[0.5,-.2],[0,0.2],[-.5,.5],[0,9],[.5,.5],[0,.2]]),5)\n",
    "sol=prism(sec1,path3)\n",
    "sol1=prism(sec,path1)\n",
    "sol2=prism(sec0,path2)\n",
    "\n",
    "line1=cr_3d([[0,0,-5,0],[0,.5,5,2],[0,10,0,10],[30,20,0,10],[5,20,0,0]],10)\n",
    "line2=cr_3d([[0,0,-5,0],[0,.5,5,2],[0,10,0,5],[-30,20,0,10],[-5,20,0,0]],10)\n",
    "line3=cr_3d([[0,0,-5,0],[0,.5,5,2],[0,55,0,0]],10)\n",
    "\n",
    "sec=cr(pts1([[-5,-1,1],[10,0,1],[0,5,2],[-10,0,2]]),10)\n",
    "path=cr(pts1([[0,0],[0,10,5],[-1,5,5],[0,10,5],[-1,5,5],[0,10]]),10)\n",
    "path=equidistant_path(path,100)\n",
    "sol3=prism(sec,path)\n",
    "\n",
    "\n",
    "sol4=sol2path(sol3,line1)\n",
    "sol5=sol2path(sol3,line2)\n",
    "sol6=sol2path(sol3,line3)\n",
    "\n",
    "sol7=prism(circle(15),cr(pts1([[-14,0],[14,0,.2],[0,5,.2],[-14,0]]),10))\n",
    "sol7=translate([0,-13,-9],sol7)\n",
    "\n",
    "fillet1=ip_fillet(sol7,sol4,2,2)\n",
    "\n",
    "with open('trial.scad','w+')as f:\n",
    "    f.write(f'''\n",
    "    include<dependencies.scad>\n",
    "\n",
    "translate([0,50,0])\n",
    "difference(){{\n",
    "    difference(){{\n",
    "    {swp(sol1)}\n",
    "    {swp(sol2)}\n",
    "    }}\n",
    "    {swp(translate([-35,0,0],sol))}\n",
    "    {swp(translate([35,0,0],sol))}\n",
    "    {swp(translate([0,45,0],sol))}\n",
    "    }}\n",
    "    \n",
    "    color(\"blue\")p_line3d({line1},.5,rec=1);\n",
    "    color(\"magenta\")p_line3d({line2},.5,rec=1);\n",
    "    color(\"cyan\")p_line3d({line3},.5,rec=1);\n",
    "    difference(){{\n",
    "    union(){{\n",
    "    {swp(sol4)}\n",
    "    {swp(sol5)}\n",
    "    {swp(sol6)}\n",
    "    }}\n",
    "    translate([0,50,0])\n",
    "    {swp(sol1)}\n",
    "    }}\n",
    "    \n",
    "    {swp(sol7)}\n",
    "    {swp_c(fillet1)}\n",
    "    ''')"
   ]
  }
 ],
 "metadata": {
  "kernelspec": {
   "display_name": "Python 3 (ipykernel)",
   "language": "python",
   "name": "python3"
  },
  "language_info": {
   "codemirror_mode": {
    "name": "ipython",
    "version": 3
   },
   "file_extension": ".py",
   "mimetype": "text/x-python",
   "name": "python",
   "nbconvert_exporter": "python",
   "pygments_lexer": "ipython3",
   "version": "3.11.5"
  }
 },
 "nbformat": 4,
 "nbformat_minor": 5
}
