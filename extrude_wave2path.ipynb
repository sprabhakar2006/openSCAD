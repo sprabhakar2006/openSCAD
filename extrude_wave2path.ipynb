{
 "cells": [
  {
   "cell_type": "code",
   "execution_count": 1,
   "id": "811d545a-20b4-4616-935f-deb8c3ce1c74",
   "metadata": {},
   "outputs": [],
   "source": [
    "from openscad1 import *"
   ]
  },
  {
   "cell_type": "code",
   "execution_count": 50,
   "id": "a589c1ed-108a-4434-bdaf-9fe4e2c70923",
   "metadata": {},
   "outputs": [],
   "source": [
    "# extrude wave to path\n",
    "r=10\n",
    "s1=q_rot(['y90'],helix(10,5,50,5))\n",
    "s2=q_rot(['x90'],sinewave(140,7,8,10*360+1))\n",
    "p1=c2t3(arc(80,0,360,s=10*360))\n",
    "p2=extrude_wave2path(s2,p1)\n",
    "s3=extrude_wave2path(s1,p2)\n",
    "c1=circle(2)\n",
    "sol1=align_sol_1(path_extrude_closed(c1,s3))\n",
    "sol2=path_extrude_closed(circle(r-2),p2)\n",
    "\n",
    "with open('trial.scad','w+') as f:\n",
    "    f.write(f'''\n",
    "    include<dependencies2.scad>\n",
    "    color(\"magenta\")p_line3dc({p2},.3,1);\n",
    "    {swp(sol1)}\n",
    "    %{swp_c(sol2)}\n",
    "    \n",
    "    ''')"
   ]
  },
  {
   "cell_type": "code",
   "execution_count": null,
   "id": "1fb711c9-7e71-41fe-9813-363e45f89eac",
   "metadata": {},
   "outputs": [],
   "source": []
  }
 ],
 "metadata": {
  "kernelspec": {
   "display_name": "Python 3 (ipykernel)",
   "language": "python",
   "name": "python3"
  },
  "language_info": {
   "codemirror_mode": {
    "name": "ipython",
    "version": 3
   },
   "file_extension": ".py",
   "mimetype": "text/x-python",
   "name": "python",
   "nbconvert_exporter": "python",
   "pygments_lexer": "ipython3",
   "version": "3.12.0"
  }
 },
 "nbformat": 4,
 "nbformat_minor": 5
}
