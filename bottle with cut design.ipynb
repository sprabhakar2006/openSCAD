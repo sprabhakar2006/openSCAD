{
 "cells": [
  {
   "cell_type": "code",
   "execution_count": 2,
   "id": "34e9624c",
   "metadata": {},
   "outputs": [
    {
     "data": {
      "text/html": [
       "<style>.container{ width: 100% !important ;}</style>"
      ],
      "text/plain": [
       "<IPython.core.display.HTML object>"
      ]
     },
     "metadata": {},
     "output_type": "display_data"
    }
   ],
   "source": [
    "from openscad1 import *\n",
    "\n",
    "from IPython.display import display, HTML\n",
    "display(HTML(\"<style>.container{ width: 100% !important ;}</style>\"))"
   ]
  },
  {
   "cell_type": "code",
   "execution_count": 17,
   "id": "eaee3bda",
   "metadata": {},
   "outputs": [],
   "source": [
    "sec=circle(10,s=70)\n",
    "path=cr(pts1([[-3,0,0],[3,0,3],[3,5,7],[-5,20,100],[8,30,20],[-11,10,5],[0,10,0]]),20)\n",
    "path1=path+flip(path_offset(path,-.9))\n",
    "sec1=cr(pts1([[-5,0,3],[10,0,3],[0,20,30],[-3,20,30],[0,10,2],[-4,0,2],[0,-10,30],[-3,-20,30]]),20)\n",
    "\n",
    "sol1=q_rot(['z0'],prism(sec,path))\n",
    "sol2=translate([0,0,5],q_rot(['x90','z90'],linear_extrude(equidistant_pathc(sec1,200),30)))\n",
    "fillet1=ip_fillet(sol1,flip(sol2),.5,.5)\n",
    "fillet1=[p[:-1] for p in cpo(fillet1)][:-1]\n",
    "sol3=[sol2[-1]]+fillet1\n",
    "sol4=offset_sol(sol1,-1)\n",
    "fillet2=ip_fillet(sol4,sol2,.5,-.5)\n",
    "fillet2=flip([p[:-1] for p in cpo(fillet2)][:-1])\n",
    "sol5=sol3+fillet2\n",
    "\n",
    "\n",
    "with open('/sdcard/download/openscad-main/trial.scad','w+')as f:\n",
    "    f.write(f'''\n",
    "include<dependencies2.scad>\n",
    "difference(){{\n",
    "{swp(sol1)}\n",
    "for(i=[0,90,180,270])\n",
    "rotate([0,0,i])\n",
    "{swp(sol5)}\n",
    "}}\n",
    "{swp(sol4)}\n",
    "    ''')\n"
   ]
  },
  {
   "cell_type": "code",
   "execution_count": null,
   "id": "c75f0917",
   "metadata": {},
   "outputs": [],
   "source": []
  },
  {
   "cell_type": "code",
   "execution_count": 6,
   "id": "a30dd895",
   "metadata": {},
   "outputs": [
    {
     "data": {
      "text/plain": [
       "(200, 201)"
      ]
     },
     "execution_count": 6,
     "metadata": {},
     "output_type": "execute_result"
    }
   ],
   "source": [
    "fillet1"
   ]
  }
 ],
 "metadata": {
  "kernelspec": {
   "display_name": "Python 3 (ipykernel)",
   "language": "python",
   "name": "python3"
  },
  "language_info": {
   "codemirror_mode": {
    "name": "ipython",
    "version": 3
   },
   "file_extension": ".py",
   "mimetype": "text/x-python",
   "name": "python",
   "nbconvert_exporter": "python",
   "pygments_lexer": "ipython3",
   "version": "3.9.7"
  }
 },
 "nbformat": 4,
 "nbformat_minor": 5
}
