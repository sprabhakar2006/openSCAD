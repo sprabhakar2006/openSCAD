{
 "cells": [
  {
   "cell_type": "code",
   "execution_count": 1,
   "id": "ada24fbc-8dbb-4c03-a331-f9ac03de7533",
   "metadata": {},
   "outputs": [],
   "source": [
    "from openscad1 import *"
   ]
  },
  {
   "cell_type": "code",
   "execution_count": 46,
   "id": "1837556c-694a-4ff4-a6ff-1a73d4781222",
   "metadata": {},
   "outputs": [],
   "source": [
    "w1=cosinewave(50,11,10,500)\n",
    "w2=sinewave(50,11,10,500)\n",
    "\n",
    "w1=c2t3(w1)\n",
    "w2=q_rot(['x90'], w2 )\n",
    "\n",
    "w3=[ [w1[i][0],w1[i][1],w2[i][2]  ] for i in range(len(w1))]\n",
    "\n",
    "w4=[ [ 0, p[1], p[2]]  for p in w3]\n",
    "\n",
    "p1=arc(20,0,4*360,s=499)\n",
    "p1=c2t3(p1)\n",
    "\n",
    "p2=p1[1:]+[p1[0]]\n",
    "p1,p2=array(p1),array(p2)\n",
    "v1=p2-p1\n",
    "w5=[]\n",
    "for i in range(len(w4)):\n",
    "    a1=ang(v1[i][0],v1[i][1])\n",
    "    a2=ang(norm(v1[i][:2]),v1[i][2])\n",
    "    p3=q_rot([f'y{-a2}',f'z{a1}'],w4[i])\n",
    "    p3=p1[i]+p3\n",
    "    w5.append(p3.tolist())\n",
    "w5=w5[:-1]\n",
    "\n",
    "sol=path_extrude_closed(circle(10),c2t3(circle(20,s=100)))\n",
    "with open('trial.scad','w+') as f:\n",
    "    f.write(f'''\n",
    "    include<dependencies2.scad>\n",
    "//%{swp_c(sol)}\n",
    "    //color(\"blue\")p_line3d({w1},.2,1);\n",
    "    color(\"magenta\")p_line3d({w5},.2,1);\n",
    "    \n",
    "    ''')"
   ]
  }
 ],
 "metadata": {
  "kernelspec": {
   "display_name": "Python 3 (ipykernel)",
   "language": "python",
   "name": "python3"
  },
  "language_info": {
   "codemirror_mode": {
    "name": "ipython",
    "version": 3
   },
   "file_extension": ".py",
   "mimetype": "text/x-python",
   "name": "python",
   "nbconvert_exporter": "python",
   "pygments_lexer": "ipython3",
   "version": "3.12.0"
  }
 },
 "nbformat": 4,
 "nbformat_minor": 5
}
