{
 "cells": [
  {
   "cell_type": "code",
   "execution_count": 1,
   "id": "9b80d547",
   "metadata": {},
   "outputs": [
    {
     "data": {
      "text/plain": [
       "55.758939027786255"
      ]
     },
     "execution_count": 1,
     "metadata": {},
     "output_type": "execute_result"
    }
   ],
   "source": [
    "from openscad1 import *\n",
    "\n",
    "# it takes around 60 sec for calculations\n",
    "\n",
    "\n",
    "t0=time.time()\n",
    "\n",
    "stages =200\n",
    "\n",
    "stage_height = 1.25\n",
    "\n",
    "rad = 50\n",
    "\n",
    "f1 = 25\n",
    "\n",
    "f2 = 25\n",
    "\n",
    "phase1 = 0\n",
    "\n",
    "phase2 = 180\n",
    "\n",
    "height_depth=5\n",
    "\n",
    "depth1 = 20\n",
    "\n",
    "depth2 = 20\n",
    "\n",
    "thickness = 2\n",
    "\n",
    "bottom_thickness = 3\n",
    "\n",
    "myslices = 5\n",
    "\n",
    "angle_step=.5\n",
    "\n",
    "var=1\n",
    "\n",
    "def pauw(x,p):\n",
    "    return sign(x)*abs(x)**p\n",
    "\n",
    "def f(i,stages):\n",
    "    return sin(d2r(i/stages * 120))**2 * 7 + 1\n",
    "\n",
    "def a(i,stages,var,height_depth):\n",
    "    return (sin(d2r((i/stages*360*f(i,stages))%360)) * 0.5 + 0.5) * (var * height_depth)\n",
    "\n",
    "\n",
    "# generate outer points\n",
    "\n",
    "points_base=[[\n",
    "    [\n",
    "        sin(d2r(j)) * (rad+a(i,stages,var,height_depth)+(pauw(sin(d2r(j *f1+phase1)),0.5)*0.5+0.5)*depth1*i/stages+(pauw(sin(d2r(j *f2+phase2)),0.5)*0.5+0.5)*depth2*(1-i/stages)),\n",
    "        cos(d2r(j)) * (rad+a(i,stages,var,height_depth)+(pauw(sin(d2r(j *f1+phase1)),0.5)*0.5+0.5)*depth1*i/stages+(pauw(sin(d2r(j *f2+phase2)),0.5)*0.5+0.5)*depth2*(1-i/stages)),\n",
    "        i*stage_height\n",
    "    ]\n",
    "    for j in arange(0,360,angle_step)] for i in range(stages+1)]\n",
    "\n",
    "\n",
    "p1,p2=[],[]\n",
    "for i in range(stages):\n",
    "    points_base1= flip(c3t2(points_base[i]))#flip(c3t2(points_base[i])) if cw(c3t2(points_base[i]))==1 else c3t2(points_base[i])\n",
    "    points_base2=oset(points_base1,-thickness)\n",
    "    p1.append(translate([0,0,i*stage_height],points_base1))\n",
    "    p2.append(translate([0,0,i*stage_height],points_base2))\n",
    "    \n",
    "sol=swp_prism_h(p1,p2)\n",
    "\n",
    "sol1=[p1[0],p1[2]]\n",
    "\n",
    "with open('/users/sanjeevprabhakar/openscad/trial.scad','w+') as f:\n",
    "    f.write(f'''\n",
    "\n",
    "{swp_c(sol)}\n",
    "{swp(sol1)}\n",
    "''')   \n",
    "    \n",
    "t1=time.time()\n",
    "t1-t0\n",
    "\n"
   ]
  }
 ],
 "metadata": {
  "hide_input": false,
  "kernelspec": {
   "display_name": "Python 3 (ipykernel)",
   "language": "python",
   "name": "python3"
  },
  "language_info": {
   "codemirror_mode": {
    "name": "ipython",
    "version": 3
   },
   "file_extension": ".py",
   "mimetype": "text/x-python",
   "name": "python",
   "nbconvert_exporter": "python",
   "pygments_lexer": "ipython3",
   "version": "3.10.8"
  }
 },
 "nbformat": 4,
 "nbformat_minor": 5
}
