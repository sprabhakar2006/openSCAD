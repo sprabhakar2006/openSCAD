{
 "cells": [
  {
   "cell_type": "code",
   "execution_count": null,
   "id": "ca34a88f-95bd-4498-99d5-40cb418ecfb7",
   "metadata": {},
   "outputs": [],
   "source": [
    "from openscad1 import *\n",
    "set_printoptions(suppress=True)\n",
    "\n",
    "# designing bottle with cut design\n",
    "sec=circle(10,s=100)\n",
    "path=corner_radius(pts1([[-3,0],[3,0,3],[3,5,7],[-5,20,100],\n",
    "                        [8,30,20],[-11,10,5],[0,10,0]]),30)\n",
    "path=equidistant_path(path,100)\n",
    "sol=prism(sec,path)\n",
    "\n",
    "sec1=corner_radius(pts1([[-7.5,10,3],[15,0,3],[0,20,30],\n",
    "                        [-3,20,30],[0,10,4.4],[-9,0,4.4],\n",
    "                        [0,-10,30],[-3,-20,30]]),10)\n",
    "\n",
    "sec1=equidistant_pathc(sec1,100)\n",
    "sec1=reorient_sec(sec1)\n",
    "path1=corner_radius(pts1([[1,0],[-1,0,1],[-1,2,2],[-2,0]]),10)\n",
    "path1=equidistant_path(path1,10)\n",
    "surf1=prism2cpo(prism(sec1,path1))\n",
    "s1=[equidistant_path(p,100) for p in surf1]\n",
    "p1=q_rot(['y90'],path)\n",
    "s1=[wrap_around(p,p1)  for p in s1]\n",
    "s1=translate([0,10,0],q_rot(['z-90'],s1))\n",
    "p2=q_rot(['y90'],circle(10,s=200))\n",
    "s1=[wrap_around(p,p2) for p in s1]\n",
    "s1=q_rot(['y-90','z30'],s1)\n",
    "sol=psos(s1,sol,[0,-1,0])\n",
    "s1=q_rot(['z120'],s1)\n",
    "v1=q_rot(['z120'],[0,-1,0])\n",
    "sol=psos(s1,sol,v1)\n",
    "s1=q_rot(['z120'],s1)\n",
    "v1=q_rot(['z240'],[0,-1,0])\n",
    "sol=psos(s1,sol,v1)\n",
    "sol1=[offset_3d(p,-.5) for p in sol]\n",
    "bottle=sol+flip(sol1)[:-16]\n",
    "with open('trial.scad','w+') as f:\n",
    "    f.write(f'''\n",
    "{swp(bottle)}\n",
    "\n",
    "    ''')"
   ]
  }
 ],
 "metadata": {
  "kernelspec": {
   "display_name": "Python 3 (ipykernel)",
   "language": "python",
   "name": "python3"
  },
  "language_info": {
   "codemirror_mode": {
    "name": "ipython",
    "version": 3
   },
   "file_extension": ".py",
   "mimetype": "text/x-python",
   "name": "python",
   "nbconvert_exporter": "python",
   "pygments_lexer": "ipython3",
   "version": "3.12.0"
  }
 },
 "nbformat": 4,
 "nbformat_minor": 5
}
