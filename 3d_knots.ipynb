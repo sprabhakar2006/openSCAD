{
 "cells": [
  {
   "cell_type": "code",
   "execution_count": 6,
   "id": "3b5f04c8-f550-456d-8583-e6c70495bc3a",
   "metadata": {},
   "outputs": [],
   "source": [
    "from openscad1 import *"
   ]
  },
  {
   "cell_type": "code",
   "execution_count": 15,
   "id": "6a2527e2-d4db-4e55-9a68-d9bac9936fae",
   "metadata": {},
   "outputs": [
    {
     "data": {
      "text/plain": [
       "3.026686906814575"
      ]
     },
     "execution_count": 15,
     "metadata": {},
     "output_type": "execute_result"
    }
   ],
   "source": [
    "# 3d knots various types\n",
    "t0=time.time()\n",
    "\n",
    "# cinquefoil torus knots\n",
    "\n",
    "# explanation\n",
    "# radius of the torus = a*d\n",
    "# section radius of the torus = d\n",
    "# p in number of cycles of the wrapping coil over torus\n",
    "# q in the number of turns of the wrapping coil over torus\n",
    "\n",
    "a,p,q=3,4,15  \n",
    "d=10\n",
    "r=2\n",
    "\n",
    "path=[[d*cos(p*t)*(a+cos(q*t)),\n",
    "d*sin(p*t)*(a+cos(q*t)),\n",
    "-d*sin(q*t)] for t in d2r(arange(0,360,.25))]\n",
    "\n",
    "sec=circle(r)\n",
    "sol=align_sol_1(path_extrude_closed(sec,path))\n",
    "\n",
    "sec1=circle(d-r)\n",
    "path1=c2t3(circle(a*d))\n",
    "sol1=path_extrude_closed(sec1,path1)\n",
    "\n",
    "\n",
    "with open('trial.scad','w+') as f:\n",
    "    f.write(f'''\n",
    "include<dependencies2.scad> \n",
    "{swp(sol)}\n",
    "%{swp(sol1)}\n",
    "\n",
    "''')\n",
    "t1=time.time()\n",
    "t1-t0"
   ]
  }
 ],
 "metadata": {
  "kernelspec": {
   "display_name": "Python 3 (ipykernel)",
   "language": "python",
   "name": "python3"
  },
  "language_info": {
   "codemirror_mode": {
    "name": "ipython",
    "version": 3
   },
   "file_extension": ".py",
   "mimetype": "text/x-python",
   "name": "python",
   "nbconvert_exporter": "python",
   "pygments_lexer": "ipython3",
   "version": "3.12.0"
  }
 },
 "nbformat": 4,
 "nbformat_minor": 5
}
