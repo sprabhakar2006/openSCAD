{
 "cells": [
  {
   "cell_type": "code",
   "execution_count": 1,
   "id": "e251d826-7c4c-4966-bc58-6d5609676918",
   "metadata": {},
   "outputs": [],
   "source": [
    "from openscad1 import *"
   ]
  },
  {
   "cell_type": "code",
   "execution_count": 2,
   "id": "9124d51f-85b9-4e80-bcc3-52848ac1f7ea",
   "metadata": {},
   "outputs": [],
   "source": [
    "w1=cytz(cosinewave(50,4,1,50))\n",
    "w1=translate([10,0,0],q_rot(['y-90'],w1))\n",
    "w2=[arc_3p_3d([[0,-10,p[2]+.001],p,[0,10,p[2]]],50)  for p in w1]\n",
    "w3=[arc_3p_3d([[0,10,p[2]+.001],\n",
    "               [-10,0,p[2]],[0,-10,p[2]]],50)[1:-1]  for p in w1]\n",
    "\n",
    "w4=[w2[i]+w3[i] for i in range(len(w1))]\n",
    "w4=rsz3dc(w4,[20,10,50])\n",
    "with open('trial.scad','w+') as f:\n",
    "    f.write(f'''\n",
    "    include<dependencies2.scad>\n",
    "    {swp(w4)}\n",
    "    ''')"
   ]
  },
  {
   "cell_type": "markdown",
   "id": "2b74ee5b-ef5b-4447-ad29-8b0928fcf83e",
   "metadata": {},
   "source": [
    "<img src=\"handle.jpg\" align=\"left\"  width=\"200\" />"
   ]
  }
 ],
 "metadata": {
  "kernelspec": {
   "display_name": "Python 3 (ipykernel)",
   "language": "python",
   "name": "python3"
  },
  "language_info": {
   "codemirror_mode": {
    "name": "ipython",
    "version": 3
   },
   "file_extension": ".py",
   "mimetype": "text/x-python",
   "name": "python",
   "nbconvert_exporter": "python",
   "pygments_lexer": "ipython3",
   "version": "3.11.4"
  }
 },
 "nbformat": 4,
 "nbformat_minor": 5
}
