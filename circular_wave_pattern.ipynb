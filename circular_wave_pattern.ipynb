{
 "cells": [
  {
   "cell_type": "code",
   "execution_count": 1,
   "id": "62a05501-e81a-4e78-a5c1-3811e5aa9f95",
   "metadata": {},
   "outputs": [],
   "source": [
    "from openscad1 import *"
   ]
  },
  {
   "cell_type": "code",
   "execution_count": 41,
   "id": "a0394c3d-d0b5-4296-a389-1ccb77de0685",
   "metadata": {},
   "outputs": [],
   "source": [
    "w1=cytz(sinewave(200,10,10,200))\n",
    "w2=q_rot(['z90'],cytz(cosinewave(200,10,10,200)))\n",
    "w3=cpo(surface_from_2_waves(w1,w2,3))\n",
    "\n",
    "c1=c2t3(arc(200/(2*pi),0,360,s=199))\n",
    "\n",
    "w4=[ extrude_wave2path(p,c1)  for p in w3][35:]\n",
    "w5=translate([0,0,-.1],w4)\n",
    "surf_1=swp_prism_h(w4,w5)\n",
    "\n",
    "\n",
    "with open('trial.scad','w+') as f:\n",
    "    f.write(f'''\n",
    "    include<dependencies2.scad>\n",
    "\n",
    "    {swp_c(surf_1)}\n",
    "\n",
    "    ''')\n"
   ]
  }
 ],
 "metadata": {
  "kernelspec": {
   "display_name": "Python 3 (ipykernel)",
   "language": "python",
   "name": "python3"
  },
  "language_info": {
   "codemirror_mode": {
    "name": "ipython",
    "version": 3
   },
   "file_extension": ".py",
   "mimetype": "text/x-python",
   "name": "python",
   "nbconvert_exporter": "python",
   "pygments_lexer": "ipython3",
   "version": "3.12.0"
  }
 },
 "nbformat": 4,
 "nbformat_minor": 5
}
